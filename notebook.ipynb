{
 "cells": [
  {
   "cell_type": "code",
   "execution_count": null,
   "id": "78dd372b",
   "metadata": {},
   "outputs": [],
   "source": [
    "import gym\n",
    "import numpy as np\n",
    "\n",
    "env = gym.make(\"BipedalWalker-v3\")\n",
    "obs = env.reset()\n",
    "for _ in range(200):\n",
    "    obs, reward, _, _ = env.step([1, 0, 1, 0])\n",
    "    print(f\"This is the reward: {reward}\")\n",
    "    env.render()\n",
    "env.close()"
   ]
  },
  {
   "cell_type": "markdown",
   "id": "f51e3640",
   "metadata": {},
   "source": [
    "### Calculate expected cumulative reward per episode in `BipedalWalker-v3`"
   ]
  },
  {
   "cell_type": "code",
   "execution_count": null,
   "id": "9c17ce53",
   "metadata": {},
   "outputs": [],
   "source": [
    "import gym\n",
    "import numpy as np\n",
    "\n",
    "env = gym.make(\"BipedalWalker-v3\")\n",
    "num_episodes = 100\n",
    "cumulative_rewards = np.array([])\n",
    "for ep in range(num_episodes):\n",
    "    cumulative_reward_this_ep = 0\n",
    "    obs = env.reset()\n",
    "    while True:\n",
    "        env_obs, reward, isDone, _ = env.step([1, 1, 1, 0])\n",
    "        cumulative_reward_this_ep += reward\n",
    "        if isDone:\n",
    "            break\n",
    "    cumulative_rewards = np.append(cumulative_rewards, cumulative_reward_this_ep)\n",
    "expected_cumulative_rewards = cumulative_rewards.mean()\n",
    "print(f\"The exepected cumulative reward is {expected_cumulative_rewards}\")"
   ]
  },
  {
   "cell_type": "markdown",
   "id": "b8349ad3",
   "metadata": {},
   "source": [
    "### Teach the robot in the `BipedalWalker-v3` environment how to walk using `rllib`'s PPO implementation"
   ]
  },
  {
   "cell_type": "code",
   "execution_count": null,
   "id": "49337c8a",
   "metadata": {},
   "outputs": [],
   "source": [
    "from ray import tune\n",
    "ray.init()\n",
    "\n",
    "tune.run(\"PPO\",\n",
    "        config={\n",
    "            \"env\": \"BipedalWalker-v3\",\n",
    "            \"evaluation_interval\": 100,\n",
    "            \"evaluation_num_episodes\": 100\n",
    "        },\n",
    "        local_dir=\"BipedalWalker-v3\",\n",
    "        checkpoint_freq=100\n",
    ")"
   ]
  },
  {
   "cell_type": "code",
   "execution_count": null,
   "id": "bf08673b",
   "metadata": {},
   "outputs": [],
   "source": [
    "# Visualize results using tensorboard\n",
    "!tensorboard BipedalWalker_v3"
   ]
  },
  {
   "cell_type": "markdown",
   "id": "25f6aae4",
   "metadata": {},
   "source": [
    "### Create a video of the walking robot"
   ]
  },
  {
   "cell_type": "code",
   "execution_count": null,
   "id": "b818f48d",
   "metadata": {},
   "outputs": [],
   "source": [
    "# Restore the PPO agent from the last checkpoint file and save it in a variable called agent\n",
    "from ray.rllib.agents.ppo.ppo import PPOTrainer\n",
    "\n",
    "agent = PPOTrainer(config={\n",
    "            \"env\": \"BipedalWalker-v3\",\n",
    "            \"evaluation_interval\": 100,\n",
    "            \"evaluation_num_episodes\": 100\n",
    "        }\n",
    ")\n",
    "agent.restore(\"./BipedalWalker-v3/PPO/PPO_BipedalWalker-v3_36655_00000_0_2022-06-06_12-29-34/checkpoint_000224/checkpoint-224\")"
   ]
  },
  {
   "cell_type": "code",
   "execution_count": null,
   "id": "5fc1bdbc",
   "metadata": {},
   "outputs": [],
   "source": [
    "import gym\n",
    "from gym.wrappers import RecordVideo\n",
    "\n",
    "\n",
    "env = RecordVideo(gym.make(\"BipedalWalker-v3\"), \"ppo_video\")\n",
    "obs = env.reset()\n",
    "while True:\n",
    "    action = agent.compute_action(obs)\n",
    "    obs, r, done, _ = env.step(action)\n",
    "    if done:\n",
    "        break\n",
    "env.close()"
   ]
  }
 ],
 "metadata": {
  "interpreter": {
   "hash": "ab452ae049b8ea9a9fd6e8699ca498e2cf3c689b2e93ad52e27e17a326528238"
  },
  "kernelspec": {
   "display_name": "Python 3 (ipykernel)",
   "language": "python",
   "name": "python3"
  },
  "language_info": {
   "codemirror_mode": {
    "name": "ipython",
    "version": 3
   },
   "file_extension": ".py",
   "mimetype": "text/x-python",
   "name": "python",
   "nbconvert_exporter": "python",
   "pygments_lexer": "ipython3",
   "version": "3.8.0"
  }
 },
 "nbformat": 4,
 "nbformat_minor": 5
}
